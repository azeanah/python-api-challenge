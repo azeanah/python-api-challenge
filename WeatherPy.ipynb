{
 "cells": [
  {
   "cell_type": "markdown",
   "metadata": {},
   "source": [
    "# WeatherPy\n",
    "----\n",
    "\n",
    "#### Note\n",
    "* Instructions have been included for each segment. You do not have to follow them exactly, but they are included to help you think through the steps."
   ]
  },
  {
   "cell_type": "code",
   "execution_count": 1,
   "metadata": {
    "scrolled": true
   },
   "outputs": [],
   "source": [
    "# Dependencies and Setup\n",
    "import matplotlib.pyplot as plt\n",
    "import pandas as pd\n",
    "import numpy as np\n",
    "import requests\n",
    "import time\n",
    "from scipy.stats import linregress\n",
    "\n",
    "# Import API key\n",
    "from api_keys import weather_api_key\n",
    "\n",
    "# Incorporated citipy to determine city based on latitude and longitude\n",
    "from citipy import citipy\n",
    "\n",
    "# Output File (CSV)\n",
    "output_data_file = \"output_data/cities_aaron.csv\"\n",
    "\n",
    "# Range of latitudes and longitudes\n",
    "lat_range = (-90, 90)\n",
    "lng_range = (-180, 180)"
   ]
  },
  {
   "cell_type": "markdown",
   "metadata": {},
   "source": [
    "## Generate Cities List"
   ]
  },
  {
   "cell_type": "code",
   "execution_count": 2,
   "metadata": {},
   "outputs": [
    {
     "data": {
      "text/plain": [
       "623"
      ]
     },
     "execution_count": 2,
     "metadata": {},
     "output_type": "execute_result"
    }
   ],
   "source": [
    "# List for holding lat_lngs and cities\n",
    "lat_lngs = []\n",
    "cities = []\n",
    "\n",
    "# Create a set of random lat and lng combinations\n",
    "lats = np.random.uniform(low=-90.000, high=90.000, size=1500)\n",
    "lngs = np.random.uniform(low=-180.000, high=180.000, size=1500)\n",
    "lat_lngs = zip(lats, lngs)\n",
    "\n",
    "# Identify nearest city for each lat, lng combination\n",
    "for lat_lng in lat_lngs:\n",
    "    city = citipy.nearest_city(lat_lng[0], lat_lng[1]).city_name\n",
    "    \n",
    "    # If the city is unique, then add it to a our cities list\n",
    "    if city not in cities:\n",
    "        cities.append(city)\n",
    "\n",
    "# Print the city count to confirm sufficient count\n",
    "len(cities)"
   ]
  },
  {
   "cell_type": "markdown",
   "metadata": {},
   "source": [
    "### Perform API Calls\n",
    "* Perform a weather check on each city using a series of successive API calls.\n",
    "* Include a print log of each city as it'sbeing processed (with the city number and city name).\n"
   ]
  },
  {
   "cell_type": "code",
   "execution_count": 3,
   "metadata": {},
   "outputs": [
    {
     "name": "stdout",
     "output_type": "stream",
     "text": [
      "poum\n",
      "cherskiy\n",
      "new norfolk\n",
      "tuktoyaktuk\n",
      "tayshet\n",
      "darapidap\n",
      "mataura\n",
      "namatanai\n",
      "caravelas\n",
      "City not found...skipping:\n",
      "lasa\n",
      "hilo\n",
      "punta arenas\n",
      "marsala\n",
      "hobart\n",
      "butaritari\n",
      "saint-philippe\n",
      "City not found...skipping:\n",
      "kampong chhnang\n",
      "busselton\n",
      "bluff\n",
      "saldanha\n",
      "qaanaaq\n",
      "tessalit\n",
      "barra patuca\n",
      "nicoya\n",
      "vila franca do campo\n",
      "ushuaia\n",
      "tucumcari\n",
      "ishigaki\n",
      "gamba\n",
      "port-gentil\n",
      "kutum\n",
      "dikson\n",
      "namibe\n",
      "severo-kurilsk\n",
      "jaguaribe\n",
      "college\n",
      "lovington\n",
      "pangnirtung\n",
      "barcelos\n",
      "City not found...skipping:\n",
      "airai\n",
      "bethel\n",
      "saint-joseph\n",
      "champerico\n",
      "cape town\n",
      "City not found...skipping:\n",
      "lebu\n",
      "gornopravdinsk\n",
      "kolokani\n",
      "souillac\n",
      "vaini\n",
      "carnarvon\n",
      "jamestown\n",
      "channel-port aux basques\n",
      "pastavy\n",
      "evensk\n",
      "barrow\n",
      "rikitea\n",
      "atlantic beach\n",
      "saint george\n",
      "kruisfontein\n",
      "svetlaya\n",
      "City not found...skipping:\n",
      "kenai\n",
      "los andes\n",
      "port blair\n",
      "tasiilaq\n",
      "bilma\n",
      "nechi\n",
      "basoko\n",
      "albany\n",
      "geraldton\n",
      "humboldt\n",
      "catuday\n",
      "luderitz\n",
      "kozhva\n",
      "nikolskoye\n",
      "ust-kuyga\n",
      "makakilo city\n",
      "merrill\n",
      "kapaa\n",
      "constitucion\n",
      "castro\n",
      "tiksi\n",
      "bathsheba\n",
      "City not found...skipping:\n",
      "acapulco\n",
      "mar del plata\n",
      "provideniya\n",
      "shenjiamen\n",
      "fairbanks\n",
      "aripuana\n",
      "posadas\n",
      "narsaq\n",
      "udachnyy\n",
      "tuy hoa\n",
      "atuona\n",
      "kalmunai\n",
      "katobu\n",
      "srednekolymsk\n",
      "kontagora\n",
      "behshahr\n",
      "ancud\n",
      "lorengau\n",
      "City not found...skipping:\n",
      "bambous virieux\n",
      "te anau\n",
      "san carlos de bariloche\n",
      "nabire\n",
      "avarua\n",
      "torbay\n",
      "hare bay\n",
      "mahebourg\n",
      "tautira\n",
      "bredasdorp\n",
      "french harbor\n",
      "sungaipenuh\n",
      "tangi\n",
      "faanui\n",
      "georgetown\n",
      "zhaotong\n",
      "ponta do sol\n",
      "brae\n",
      "hithadhoo\n",
      "City not found...skipping:\n",
      "rawson\n",
      "port elizabeth\n",
      "port alfred\n",
      "grand gaube\n",
      "bazpur\n",
      "new glasgow\n",
      "pevek\n",
      "port moresby\n",
      "katsuura\n",
      "flinders\n",
      "aljezur\n",
      "yellowknife\n",
      "fort abbas\n",
      "hailey\n",
      "hami\n",
      "puerto ayora\n",
      "upernavik\n",
      "City not found...skipping:\n",
      "russell\n",
      "hemnesberget\n",
      "holly hill\n",
      "City not found...skipping:\n",
      "mirebalais\n",
      "lipin bor\n",
      "inta\n",
      "bengkulu\n",
      "wewak\n",
      "hualmay\n",
      "moree\n",
      "City not found...skipping:\n",
      "kalevala\n",
      "mandalgovi\n",
      "thompson\n",
      "nishihara\n",
      "bojnurd\n",
      "City not found...skipping:\n",
      "yulara\n",
      "cidreira\n",
      "norman wells\n",
      "sur\n",
      "atambua\n",
      "itaituba\n",
      "raga\n",
      "solnechnyy\n",
      "acarau\n",
      "qasigiannguit\n",
      "wau\n",
      "victoria\n",
      "turayf\n",
      "bulawayo\n",
      "mabaruma\n",
      "guerrero negro\n",
      "chuy\n",
      "City not found...skipping:\n",
      "hermanus\n",
      "east london\n",
      "mancio lima\n",
      "manicore\n",
      "formosa do rio preto\n",
      "englehart\n",
      "pacific grove\n",
      "joacaba\n",
      "walvis bay\n",
      "ust-nera\n",
      "khuzdar\n",
      "ouadda\n",
      "buala\n",
      "khatanga\n",
      "miri\n",
      "santa cruz\n",
      "comodoro rivadavia\n",
      "huarmey\n",
      "vostok\n",
      "mingguang\n",
      "hovd\n",
      "saskylakh\n",
      "lavrentiya\n",
      "rosarito\n",
      "riyadh\n",
      "matay\n",
      "itarema\n",
      "corinto\n",
      "talnakh\n",
      "City not found...skipping:\n",
      "puerto madryn\n",
      "asau\n",
      "dalmatovo\n",
      "liverpool\n",
      "codrington\n",
      "ahipara\n",
      "ginda\n",
      "saint anthony\n",
      "whitianga\n",
      "inhambane\n",
      "nyurba\n",
      "hamilton\n",
      "camacupa\n",
      "laguna\n",
      "City not found...skipping:\n",
      "sept-iles\n",
      "alofi\n",
      "usinsk\n",
      "kavaratti\n",
      "beira\n",
      "effium\n",
      "samana\n",
      "fortuna\n",
      "nome\n",
      "sao lourenco do sul\n",
      "manaure\n",
      "tiznit\n",
      "City not found...skipping:\n",
      "padang\n",
      "iralaya\n",
      "esperance\n",
      "west odessa\n",
      "nieuw amsterdam\n",
      "steamboat springs\n",
      "City not found...skipping:\n",
      "kodinsk\n",
      "blythe\n",
      "cravo norte\n",
      "coihaique\n",
      "saint-augustin\n",
      "dukat\n",
      "berlevag\n",
      "andenes\n",
      "nanortalik\n",
      "bucerias\n",
      "dingle\n",
      "prince rupert\n",
      "ulaangom\n",
      "great falls\n",
      "calama\n",
      "kununurra\n",
      "porec\n",
      "City not found...skipping:\n",
      "marienburg\n",
      "banda aceh\n",
      "ossora\n",
      "kalemie\n",
      "kawerau\n",
      "krasnaya gora\n",
      "alghero\n",
      "santa cruz cabralia\n",
      "salalah\n",
      "coquimbo\n",
      "lompoc\n",
      "tommot\n",
      "City not found...skipping:\n",
      "ha tinh\n",
      "marau\n",
      "City not found...skipping:\n",
      "nemuro\n",
      "vao\n",
      "kalnibolotskaya\n",
      "ilulissat\n",
      "north bend\n",
      "daru\n",
      "City not found...skipping:\n",
      "kahului\n",
      "vanavara\n",
      "City not found...skipping:\n",
      "taicheng\n",
      "indramayu\n",
      "zogno\n",
      "taitung\n",
      "City not found...skipping:\n",
      "soure\n",
      "qaqortoq\n",
      "khalkhal\n",
      "tromso\n",
      "City not found...skipping:\n",
      "arraial do cabo\n",
      "iqaluit\n",
      "kulhudhuffushi\n",
      "City not found...skipping:\n",
      "washim\n",
      "City not found...skipping:\n",
      "gao\n",
      "kologriv\n",
      "verkhoyansk\n",
      "arlit\n",
      "lisakovsk\n",
      "urcos\n",
      "waipawa\n",
      "hofn\n",
      "oktyabrskiy\n",
      "City not found...skipping:\n",
      "upata\n",
      "colares\n",
      "san quintin\n",
      "onverwacht\n",
      "lagoa\n",
      "petropavlovsk-kamchatskiy\n",
      "cap malheureux\n",
      "inirida\n",
      "ostrovnoy\n",
      "City not found...skipping:\n",
      "berga\n",
      "pyaozerskiy\n",
      "pangkalanbuun\n",
      "yar-sale\n",
      "City not found...skipping:\n",
      "high rock\n",
      "hasaki\n",
      "howard springs\n",
      "glace bay\n",
      "botou\n",
      "maniitsoq\n",
      "san patricio\n",
      "oistins\n",
      "kudahuvadhoo\n",
      "morondava\n",
      "wattegama\n",
      "taiyuan\n",
      "baykit\n",
      "naze\n",
      "porto velho\n",
      "beringovskiy\n",
      "auki\n",
      "havelock\n",
      "nantucket\n",
      "davila\n",
      "vaitape\n",
      "broome\n",
      "qui nhon\n",
      "san cristobal\n",
      "brekstad\n",
      "pundaguitan\n",
      "City not found...skipping:\n",
      "gambo\n",
      "esfarayen\n",
      "kwinana\n",
      "pasighat\n",
      "superior\n",
      "suhbaatar\n",
      "gayeri\n",
      "City not found...skipping:\n",
      "ulladulla\n",
      "bonfim\n",
      "gilbues\n",
      "ariquemes\n",
      "valleyview\n",
      "karasjok\n",
      "mezen\n",
      "avera\n",
      "mindelo\n",
      "tigil\n",
      "tocopilla\n",
      "xuddur\n",
      "korla\n",
      "takoradi\n",
      "santa barbara\n",
      "pochutla\n",
      "mayo\n",
      "kitgum\n",
      "poya\n",
      "stornoway\n",
      "mount gambier\n",
      "mombetsu\n",
      "sola\n",
      "vestmannaeyjar\n",
      "balsas\n",
      "City not found...skipping:\n",
      "bayanday\n",
      "miraflores\n",
      "City not found...skipping:\n",
      "arivonimamo\n",
      "City not found...skipping:\n",
      "jalu\n",
      "havoysund\n",
      "klaksvik\n",
      "ventspils\n",
      "fort-shevchenko\n",
      "camacha\n",
      "City not found...skipping:\n",
      "komsomolskiy\n",
      "sibu\n",
      "opuwo\n",
      "muncar\n",
      "sadao\n",
      "santa maria\n",
      "erzin\n",
      "turukhansk\n",
      "karratha\n",
      "juneau\n",
      "City not found...skipping:\n",
      "songjianghe\n",
      "burgeo\n",
      "lata\n",
      "City not found...skipping:\n",
      "temiscaming\n",
      "touros\n",
      "vila velha\n",
      "lakselv\n",
      "matamoros\n",
      "merauke\n",
      "seddon\n",
      "half moon bay\n",
      "wangqing\n",
      "mukhen\n",
      "serebryanyy bor\n",
      "port said\n",
      "dunedin\n",
      "ucluelet\n",
      "alice springs\n",
      "shar\n",
      "vagamo\n",
      "aksu\n",
      "sao filipe\n",
      "kuala terengganu\n",
      "kemijarvi\n",
      "pangai\n",
      "xiongyue\n",
      "antigonish\n",
      "betsiamites\n",
      "sambava\n",
      "City not found...skipping:\n",
      "san juan bautista\n",
      "dawei\n",
      "sakakah\n",
      "mikhaylovsk\n",
      "vuktyl\n",
      "ribeira grande\n",
      "verkhnyaya inta\n",
      "tiarei\n",
      "marsh harbour\n",
      "shenzhen\n",
      "dengzhou\n",
      "kavieng\n",
      "innisfail\n",
      "warrington\n",
      "voyvozh\n",
      "bhubaneswar\n",
      "City not found...skipping:\n",
      "dudinka\n",
      "xai-xai\n",
      "kyren\n",
      "keflavik\n",
      "taoudenni\n",
      "hailun\n",
      "cayenne\n",
      "City not found...skipping:\n",
      "husavik\n",
      "longyearbyen\n",
      "kamenka\n",
      "homer\n",
      "valladolid\n",
      "severo-yeniseyskiy\n",
      "ashcroft\n",
      "City not found...skipping:\n",
      "axim\n",
      "chokwe\n",
      "isabela\n",
      "san jeronimo\n",
      "farafangana\n",
      "gobabis\n",
      "parabel\n",
      "teya\n",
      "City not found...skipping:\n",
      "wakkanai\n",
      "tuatapere\n",
      "yendi\n",
      "shihezi\n",
      "necochea\n",
      "gat\n",
      "elizabeth city\n",
      "sarangani\n",
      "khani\n",
      "kodiak\n",
      "forio\n",
      "juruti\n",
      "mulege\n",
      "codo\n",
      "port hedland\n",
      "sulangan\n",
      "City not found...skipping:\n",
      "el tigre\n",
      "dentsville\n",
      "City not found...skipping:\n",
      "ugoofaaru\n",
      "City not found...skipping:\n",
      "lubango\n",
      "leningradskiy\n",
      "rorvik\n",
      "bilibino\n",
      "abha\n",
      "oblivskaya\n",
      "kaitangata\n",
      "mastic beach\n",
      "port lincoln\n",
      "isangel\n",
      "beroroha\n",
      "rochegda\n",
      "kochubey\n",
      "erenhot\n",
      "jiwani\n",
      "lieksa\n",
      "City not found...skipping:\n",
      "harper\n",
      "bubaque\n",
      "tanuku\n",
      "santa marta\n",
      "manaus\n",
      "leninskoye\n",
      "charyshskoye\n",
      "verkh-usugli\n",
      "carutapera\n",
      "cabo san lucas\n",
      "cotonou\n",
      "torrington\n",
      "praia da vitoria\n",
      "nouadhibou\n",
      "nhulunbuy\n",
      "martapura\n",
      "northam\n",
      "grindavik\n",
      "thinadhoo\n",
      "sinnamary\n",
      "City not found...skipping:\n",
      "meulaboh\n",
      "ambon\n",
      "marzuq\n",
      "karlivka\n",
      "cockburn town\n",
      "usakos\n",
      "ventanas\n",
      "lons-le-saunier\n",
      "penzance\n",
      "hollins\n",
      "ha giang\n",
      "mokrin\n",
      "bambanglipuro\n",
      "tecoanapa\n",
      "santona\n",
      "saint-francois\n",
      "hobyo\n",
      "zadonsk\n",
      "krasnoarmeyskoye\n",
      "anloga\n",
      "tezu\n",
      "callaway\n",
      "acari\n",
      "jiquipilas\n",
      "atbasar\n",
      "gazli\n",
      "chokurdakh\n",
      "yeppoon\n",
      "wanaka\n",
      "port hawkesbury\n",
      "City not found...skipping:\n",
      "sao joao da barra\n",
      "punta alta\n",
      "ngaoundere\n",
      "sitka\n",
      "pisco\n",
      "santa rosa\n",
      "City not found...skipping:\n",
      "yakeshi\n",
      "macherla\n",
      "vanimo\n",
      "City not found...skipping:\n",
      "tsumeb\n",
      "bodden town\n",
      "anqing\n",
      "east liverpool\n",
      "alugan\n",
      "loukhi\n",
      "kaabong\n",
      "deputatskiy\n",
      "leshukonskoye\n",
      "qom\n",
      "anadyr\n",
      "ibra\n",
      "namyslow\n",
      "azovskaya\n",
      "gouyave\n",
      "broken hill\n",
      "boma\n",
      "clyde river\n",
      "ilo\n",
      "emerald\n",
      "banjar\n",
      "denpasar\n",
      "nago\n",
      "alekseyevskaya\n",
      "royan\n",
      "cascais\n",
      "merke\n",
      "pandan\n",
      "tres arroyos\n",
      "valparaiso\n",
      "muyezerskiy\n",
      "tagusao\n",
      "abnub\n"
     ]
    }
   ],
   "source": [
    "# api url\n",
    "url = \"http://api.openweathermap.org/data/2.5/weather?\"\n",
    "units = \"imperial\"\n",
    "date = \"MM/DD/YYYY\"\n",
    "\n",
    "# query URL\n",
    "query_url = url + \"appid=\" + weather_api_key + \"&units=\" + units + \"&q=\"\n",
    "\n",
    "date = []\n",
    "country = []\n",
    "lat = []\n",
    "lon = []\n",
    "temp = []\n",
    "cloudiness = []\n",
    "humidity = []\n",
    "wind_speed = []\n",
    "desc = []\n",
    "city_name = []\n",
    "\n",
    "# build For-Loop\n",
    "for city in cities:\n",
    "    try:\n",
    "        response = requests.get(query_url + city).json()\n",
    "        lat.append(response['coord']['lat'])\n",
    "        lon.append(response['coord']['lon'])\n",
    "        temp.append(response['main']['temp'])\n",
    "        cloudiness.append(response['clouds']['all'])\n",
    "        humidity.append(response['main']['humidity'])\n",
    "        wind_speed.append(response['wind']['speed'])\n",
    "        country.append(response['sys']['country'])\n",
    "        #desc.append(response['weather']['description'])\n",
    "        date.append(response['dt'])\n",
    "        city_name.append(response['name'])\n",
    "        print(city)\n",
    "    except KeyError:\n",
    "        print(\"City not found...skipping:\")\n",
    "\n"
   ]
  },
  {
   "cell_type": "markdown",
   "metadata": {},
   "source": [
    "### Convert Raw Data to DataFrame\n",
    "* Export the city data into a .csv.\n",
    "* Display the DataFrame"
   ]
  },
  {
   "cell_type": "code",
   "execution_count": 4,
   "metadata": {},
   "outputs": [],
   "source": [
    "# Export into .csv\n",
    "weather_dict = {\n",
    "    \"City\": city_name,\n",
    "    \"Country\": country,\n",
    "    \"Lat\": lat,\n",
    "    \"Lon\": lon,\n",
    "    \"Temp\": temp,\n",
    "    #\"description\": desc,\n",
    "    \"Cloudiness\": cloudiness,\n",
    "    \"Humidity\": humidity,\n",
    "    \"Wind Speed\": wind_speed,\n",
    "    \"Date\": date\n",
    "}\n",
    "weather_data_df = pd.DataFrame(weather_dict)\n",
    "weather_data_df.to_csv(output_data_file)"
   ]
  },
  {
   "cell_type": "code",
   "execution_count": 5,
   "metadata": {},
   "outputs": [
    {
     "data": {
      "text/html": [
       "<div>\n",
       "<style scoped>\n",
       "    .dataframe tbody tr th:only-of-type {\n",
       "        vertical-align: middle;\n",
       "    }\n",
       "\n",
       "    .dataframe tbody tr th {\n",
       "        vertical-align: top;\n",
       "    }\n",
       "\n",
       "    .dataframe thead th {\n",
       "        text-align: right;\n",
       "    }\n",
       "</style>\n",
       "<table border=\"1\" class=\"dataframe\">\n",
       "  <thead>\n",
       "    <tr style=\"text-align: right;\">\n",
       "      <th></th>\n",
       "      <th>City</th>\n",
       "      <th>Country</th>\n",
       "      <th>Lat</th>\n",
       "      <th>Lon</th>\n",
       "      <th>Temp</th>\n",
       "      <th>Cloudiness</th>\n",
       "      <th>Humidity</th>\n",
       "      <th>Wind Speed</th>\n",
       "      <th>Date</th>\n",
       "    </tr>\n",
       "  </thead>\n",
       "  <tbody>\n",
       "    <tr>\n",
       "      <th>0</th>\n",
       "      <td>Poum</td>\n",
       "      <td>NC</td>\n",
       "      <td>-20.23</td>\n",
       "      <td>164.02</td>\n",
       "      <td>77.25</td>\n",
       "      <td>0</td>\n",
       "      <td>78</td>\n",
       "      <td>11.21</td>\n",
       "      <td>1587498701</td>\n",
       "    </tr>\n",
       "    <tr>\n",
       "      <th>1</th>\n",
       "      <td>Cherskiy</td>\n",
       "      <td>RU</td>\n",
       "      <td>68.75</td>\n",
       "      <td>161.30</td>\n",
       "      <td>13.71</td>\n",
       "      <td>96</td>\n",
       "      <td>95</td>\n",
       "      <td>8.23</td>\n",
       "      <td>1587498701</td>\n",
       "    </tr>\n",
       "    <tr>\n",
       "      <th>2</th>\n",
       "      <td>New Norfolk</td>\n",
       "      <td>AU</td>\n",
       "      <td>-42.78</td>\n",
       "      <td>147.06</td>\n",
       "      <td>49.55</td>\n",
       "      <td>72</td>\n",
       "      <td>72</td>\n",
       "      <td>4.00</td>\n",
       "      <td>1587498701</td>\n",
       "    </tr>\n",
       "    <tr>\n",
       "      <th>3</th>\n",
       "      <td>Tuktoyaktuk</td>\n",
       "      <td>CA</td>\n",
       "      <td>69.45</td>\n",
       "      <td>-133.04</td>\n",
       "      <td>5.00</td>\n",
       "      <td>75</td>\n",
       "      <td>77</td>\n",
       "      <td>21.92</td>\n",
       "      <td>1587498701</td>\n",
       "    </tr>\n",
       "    <tr>\n",
       "      <th>4</th>\n",
       "      <td>Tayshet</td>\n",
       "      <td>RU</td>\n",
       "      <td>55.93</td>\n",
       "      <td>98.00</td>\n",
       "      <td>31.91</td>\n",
       "      <td>94</td>\n",
       "      <td>74</td>\n",
       "      <td>5.35</td>\n",
       "      <td>1587498701</td>\n",
       "    </tr>\n",
       "  </tbody>\n",
       "</table>\n",
       "</div>"
      ],
      "text/plain": [
       "          City Country    Lat     Lon   Temp  Cloudiness  Humidity  \\\n",
       "0         Poum      NC -20.23  164.02  77.25           0        78   \n",
       "1     Cherskiy      RU  68.75  161.30  13.71          96        95   \n",
       "2  New Norfolk      AU -42.78  147.06  49.55          72        72   \n",
       "3  Tuktoyaktuk      CA  69.45 -133.04   5.00          75        77   \n",
       "4      Tayshet      RU  55.93   98.00  31.91          94        74   \n",
       "\n",
       "   Wind Speed        Date  \n",
       "0       11.21  1587498701  \n",
       "1        8.23  1587498701  \n",
       "2        4.00  1587498701  \n",
       "3       21.92  1587498701  \n",
       "4        5.35  1587498701  "
      ]
     },
     "execution_count": 5,
     "metadata": {},
     "output_type": "execute_result"
    }
   ],
   "source": [
    "# Display DataFrame\n",
    "weather_data_df.head()"
   ]
  },
  {
   "cell_type": "markdown",
   "metadata": {},
   "source": [
    "### Plotting the Data\n",
    "* Use proper labeling of the plots using plot titles (including date of analysis) and axes labels.\n",
    "* Save the plotted figures as .pngs."
   ]
  },
  {
   "cell_type": "markdown",
   "metadata": {},
   "source": [
    "#### Latitude vs. Temperature Plot"
   ]
  },
  {
   "cell_type": "code",
   "execution_count": 6,
   "metadata": {
    "scrolled": true
   },
   "outputs": [
    {
     "data": {
      "image/png": "[encoded data removed]",
      "text/plain": [
       "<Figure size 432x288 with 1 Axes>"
      ]
     },
     "metadata": {
      "needs_background": "light"
     },
     "output_type": "display_data"
    }
   ],
   "source": [
    "# * Temperature (F) vs. Latitude\n",
    "\n",
    "temp_scat = plt.scatter(lat, temp, marker=\"+\", facecolors=\"red\")\n",
    "plt.xlabel = \"Latitude\"\n",
    "plt.ylabel = \"Temperature (F)\"\n",
    "plt.show(temp_scat)"
   ]
  },
  {
   "cell_type": "markdown",
   "metadata": {},
   "source": [
    "#### Latitude vs. Humidity Plot"
   ]
  },
  {
   "cell_type": "code",
   "execution_count": 7,
   "metadata": {},
   "outputs": [
    {
     "data": {
      "image/png": "[encoded data removed]",
      "text/plain": [
       "<Figure size 432x288 with 1 Axes>"
      ]
     },
     "metadata": {
      "needs_background": "light"
     },
     "output_type": "display_data"
    }
   ],
   "source": [
    "# * Humidity (%) vs. Latitude\n",
    "humid_scat = plt.scatter(lat, humidity, marker=\"o\", facecolors=\"blue\")\n",
    "plt.xlabel = \"Latitude\"\n",
    "plt.ylabel = \"Humidity (%)\"\n",
    "plt.show(humid_scat)"
   ]
  },
  {
   "cell_type": "markdown",
   "metadata": {},
   "source": [
    "#### Latitude vs. Cloudiness Plot"
   ]
  },
  {
   "cell_type": "code",
   "execution_count": 8,
   "metadata": {},
   "outputs": [
    {
     "data": {
      "image/png": "[encoded data removed]",
      "text/plain": [
       "<Figure size 432x288 with 1 Axes>"
      ]
     },
     "metadata": {
      "needs_background": "light"
     },
     "output_type": "display_data"
    }
   ],
   "source": [
    "# * Cloudiness (%) vs. Latitude\n",
    "cloud_scat = plt.scatter(lat, cloudiness, marker=\"D\", facecolors=\"grey\")\n",
    "plt.xlabel = \"Latitude\"\n",
    "plt.ylabel = \"Cloudiness (%)\"\n",
    "plt.show(cloud_scat)"
   ]
  },
  {
   "cell_type": "markdown",
   "metadata": {},
   "source": [
    "#### Latitude vs. Wind Speed Plot"
   ]
  },
  {
   "cell_type": "code",
   "execution_count": 9,
   "metadata": {},
   "outputs": [
    {
     "data": {
      "image/png": "[encoded data removed]",
      "text/plain": [
       "<Figure size 432x288 with 1 Axes>"
      ]
     },
     "metadata": {
      "needs_background": "light"
     },
     "output_type": "display_data"
    }
   ],
   "source": [
    "# * Wind Speed (mph) vs. Latitude\n",
    "wind_scat = plt.scatter(lat, wind_speed, marker=\"1\", facecolors=\"green\", edgecolors=\"black\")\n",
    "plt.xlabel = \"Latitude\"\n",
    "plt.ylabel = \"Wind Speed (mph)\"\n",
    "plt.show(wind_scat)"
   ]
  },
  {
   "cell_type": "markdown",
   "metadata": {},
   "source": [
    "## Linear Regression"
   ]
  },
  {
   "cell_type": "code",
   "execution_count": 11,
   "metadata": {},
   "outputs": [],
   "source": [
    "# OPTIONAL: Create a function to create Linear Regression plots\n"
   ]
  },
  {
   "cell_type": "code",
   "execution_count": 33,
   "metadata": {},
   "outputs": [
    {
     "data": {
      "text/html": [
       "<div>\n",
       "<style scoped>\n",
       "    .dataframe tbody tr th:only-of-type {\n",
       "        vertical-align: middle;\n",
       "    }\n",
       "\n",
       "    .dataframe tbody tr th {\n",
       "        vertical-align: top;\n",
       "    }\n",
       "\n",
       "    .dataframe thead th {\n",
       "        text-align: right;\n",
       "    }\n",
       "</style>\n",
       "<table border=\"1\" class=\"dataframe\">\n",
       "  <thead>\n",
       "    <tr style=\"text-align: right;\">\n",
       "      <th></th>\n",
       "      <th>City</th>\n",
       "      <th>Country</th>\n",
       "      <th>Lat</th>\n",
       "      <th>Lon</th>\n",
       "      <th>Temp</th>\n",
       "      <th>Cloudiness</th>\n",
       "      <th>Humidity</th>\n",
       "      <th>Wind Speed</th>\n",
       "      <th>Date</th>\n",
       "    </tr>\n",
       "  </thead>\n",
       "  <tbody>\n",
       "    <tr>\n",
       "      <th>1</th>\n",
       "      <td>Cherskiy</td>\n",
       "      <td>RU</td>\n",
       "      <td>68.75</td>\n",
       "      <td>161.30</td>\n",
       "      <td>13.71</td>\n",
       "      <td>96</td>\n",
       "      <td>95</td>\n",
       "      <td>8.23</td>\n",
       "      <td>1587498701</td>\n",
       "    </tr>\n",
       "    <tr>\n",
       "      <th>3</th>\n",
       "      <td>Tuktoyaktuk</td>\n",
       "      <td>CA</td>\n",
       "      <td>69.45</td>\n",
       "      <td>-133.04</td>\n",
       "      <td>5.00</td>\n",
       "      <td>75</td>\n",
       "      <td>77</td>\n",
       "      <td>21.92</td>\n",
       "      <td>1587498701</td>\n",
       "    </tr>\n",
       "    <tr>\n",
       "      <th>4</th>\n",
       "      <td>Tayshet</td>\n",
       "      <td>RU</td>\n",
       "      <td>55.93</td>\n",
       "      <td>98.00</td>\n",
       "      <td>31.91</td>\n",
       "      <td>94</td>\n",
       "      <td>74</td>\n",
       "      <td>5.35</td>\n",
       "      <td>1587498701</td>\n",
       "    </tr>\n",
       "    <tr>\n",
       "      <th>5</th>\n",
       "      <td>Darapidap</td>\n",
       "      <td>PH</td>\n",
       "      <td>17.21</td>\n",
       "      <td>120.41</td>\n",
       "      <td>80.01</td>\n",
       "      <td>99</td>\n",
       "      <td>75</td>\n",
       "      <td>1.99</td>\n",
       "      <td>1587498701</td>\n",
       "    </tr>\n",
       "    <tr>\n",
       "      <th>9</th>\n",
       "      <td>Laas</td>\n",
       "      <td>IT</td>\n",
       "      <td>46.62</td>\n",
       "      <td>10.70</td>\n",
       "      <td>46.40</td>\n",
       "      <td>75</td>\n",
       "      <td>81</td>\n",
       "      <td>3.36</td>\n",
       "      <td>1587498701</td>\n",
       "    </tr>\n",
       "  </tbody>\n",
       "</table>\n",
       "</div>"
      ],
      "text/plain": [
       "          City Country    Lat     Lon   Temp  Cloudiness  Humidity  \\\n",
       "1     Cherskiy      RU  68.75  161.30  13.71          96        95   \n",
       "3  Tuktoyaktuk      CA  69.45 -133.04   5.00          75        77   \n",
       "4      Tayshet      RU  55.93   98.00  31.91          94        74   \n",
       "5    Darapidap      PH  17.21  120.41  80.01          99        75   \n",
       "9         Laas      IT  46.62   10.70  46.40          75        81   \n",
       "\n",
       "   Wind Speed        Date  \n",
       "1        8.23  1587498701  \n",
       "3       21.92  1587498701  \n",
       "4        5.35  1587498701  \n",
       "5        1.99  1587498701  \n",
       "9        3.36  1587498701  "
      ]
     },
     "execution_count": 33,
     "metadata": {},
     "output_type": "execute_result"
    }
   ],
   "source": [
    "# Create Northern and Southern Hemisphere DataFrames\n",
    "\n",
    "date_north = []\n",
    "country_north = []\n",
    "lat_north = []\n",
    "lon_north = []\n",
    "temp_north = []\n",
    "cloudiness_north = []\n",
    "humidity_north = []\n",
    "wind_speed_north = []\n",
    "desc_north = []\n",
    "city_name_north = []\n",
    "\n",
    "date_south = []\n",
    "country_south = []\n",
    "lat_south = []\n",
    "lon_south = []\n",
    "temp_south = []\n",
    "cloudiness_south = []\n",
    "humidity_south = []\n",
    "wind_speed_south = []\n",
    "desc_south = []\n",
    "city_name_south = []\n",
    "\n",
    "#for cities in weather_data_df:\n",
    "\n",
    "#hosted_in_us_df = reduced_kickstarter_df.loc[reduced_kickstarter_df[\"country\"] == \"US\",  columns]\n",
    "north_df = weather_data_df.loc[weather_data_df[\"Lat\"] > 0]\n",
    "\n",
    "south_df = weather_data_df.loc[weather_data_df[\"Lat\"] < 0]\n",
    "\n",
    "north_df.head()"
   ]
  },
  {
   "cell_type": "code",
   "execution_count": 86,
   "metadata": {},
   "outputs": [
    {
     "data": {
      "text/plain": [
       "573"
      ]
     },
     "execution_count": 86,
     "metadata": {},
     "output_type": "execute_result"
    }
   ],
   "source": [
    "len(lat)"
   ]
  },
  {
   "cell_type": "code",
   "execution_count": null,
   "metadata": {},
   "outputs": [],
   "source": []
  },
  {
   "cell_type": "markdown",
   "metadata": {},
   "source": [
    "####  Northern Hemisphere - Max Temp vs. Latitude Linear Regression"
   ]
  },
  {
   "cell_type": "code",
   "execution_count": 84,
   "metadata": {},
   "outputs": [
    {
     "data": {
      "image/png": "[encoded data removed]",
      "text/plain": [
       "<Figure size 432x288 with 1 Axes>"
      ]
     },
     "metadata": {
      "needs_background": "light"
     },
     "output_type": "display_data"
    },
    {
     "name": "stdout",
     "output_type": "stream",
     "text": [
      " The r-squared is: -0.8806005783855557\n"
     ]
    }
   ],
   "source": [
    "north_lat = north_df[\"Lat\"]\n",
    "north_temp = north_df[\"Temp\"]\n",
    "north_temp_scat = plt.scatter(north_lat, north_temp, marker=\"+\", facecolors=\"green\")\n",
    "\n",
    "(slope, intercept, rvalue, pvalue, stderr) = linregress(north_lat, north_temp)\n",
    "regress_values = (north_lat) * slope + intercept\n",
    "line_eq = \"y = \" + str(round(slope,2)) + \"x + \" + str(round(intercept,2))\n",
    "\n",
    "plt.plot(north_lat,regress_values,\"r-\")\n",
    "plt.annotate(line_eq,(6,10),fontsize=10,color=\"red\")\n",
    "plt.xlabel = \"Latitude\"\n",
    "plt.ylabel = \"Temperature (F)\"\n",
    "plt.show(north_temp_scat)\n",
    "\n",
    "print(f' The r-squared is: {rvalue}')"
   ]
  },
  {
   "cell_type": "markdown",
   "metadata": {},
   "source": [
    "####  Southern Hemisphere - Max Temp vs. Latitude Linear Regression"
   ]
  },
  {
   "cell_type": "code",
   "execution_count": 74,
   "metadata": {},
   "outputs": [
    {
     "data": {
      "image/png": "[encoded data removed]",
      "text/plain": [
       "<Figure size 432x288 with 1 Axes>"
      ]
     },
     "metadata": {
      "needs_background": "light"
     },
     "output_type": "display_data"
    },
    {
     "name": "stdout",
     "output_type": "stream",
     "text": [
      " The r-squared is: 0.7866460981042355\n"
     ]
    }
   ],
   "source": [
    "south_lat = south_df[\"Lat\"]\n",
    "south_temp = south_df[\"Temp\"]\n",
    "south_temp_scat = plt.scatter(south_lat, south_temp, marker=\"+\", facecolors=\"blue\")\n",
    "\n",
    "(slope, intercept, rvalue, pvalue, stderr) = linregress(south_lat, south_temp)\n",
    "regress_values = (south_lat) * slope + intercept\n",
    "line_eq = \"y = \" + str(round(slope,2)) + \"x + \" + str(round(intercept,2))\n",
    "\n",
    "plt.plot(south_lat,regress_values,\"r-\")\n",
    "plt.annotate(line_eq,(6,10),fontsize=10,color=\"red\")\n",
    "plt.xlabel = \"Latitude\"\n",
    "plt.ylabel = \"Temperature (F)\"\n",
    "plt.show(south_temp_scat)\n",
    "\n",
    "print(f' The r-squared is: {rvalue}')"
   ]
  },
  {
   "cell_type": "markdown",
   "metadata": {},
   "source": [
    "####  Northern Hemisphere - Humidity (%) vs. Latitude Linear Regression"
   ]
  },
  {
   "cell_type": "code",
   "execution_count": 83,
   "metadata": {},
   "outputs": [
    {
     "data": {
      "image/png": "[encoded data removed]",
      "text/plain": [
       "<Figure size 432x288 with 1 Axes>"
      ]
     },
     "metadata": {
      "needs_background": "light"
     },
     "output_type": "display_data"
    },
    {
     "name": "stdout",
     "output_type": "stream",
     "text": [
      " The r-squared is: 0.2735711694149213\n"
     ]
    }
   ],
   "source": [
    "north_humid = north_df[\"Humidity\"]\n",
    "north_humid_scat = plt.scatter(north_lat, north_humid, marker=\"o\", facecolors=\"green\")\n",
    "\n",
    "(slope, intercept, rvalue, pvalue, stderr) = linregress(north_lat, north_humid)\n",
    "regress_values = (north_lat) * slope + intercept\n",
    "line_eq = \"y = \" + str(round(slope,2)) + \"x + \" + str(round(intercept,2))\n",
    "\n",
    "plt.plot(north_lat,regress_values,\"r-\")\n",
    "plt.annotate(line_eq,(6,10),fontsize=10,color=\"red\")\n",
    "plt.xlabel = \"Latitude\"\n",
    "plt.ylabel = \"Humidity\"\n",
    "plt.show(north_humid_scat)\n",
    "\n",
    "print(f' The r-squared is: {rvalue}')"
   ]
  },
  {
   "cell_type": "markdown",
   "metadata": {},
   "source": [
    "####  Southern Hemisphere - Humidity (%) vs. Latitude Linear Regression"
   ]
  },
  {
   "cell_type": "code",
   "execution_count": 76,
   "metadata": {},
   "outputs": [
    {
     "data": {
      "image/png": "[encoded data removed]",
      "text/plain": [
       "<Figure size 432x288 with 1 Axes>"
      ]
     },
     "metadata": {
      "needs_background": "light"
     },
     "output_type": "display_data"
    },
    {
     "name": "stdout",
     "output_type": "stream",
     "text": [
      " The r-squared is: 0.15684748231856793\n"
     ]
    }
   ],
   "source": [
    "south_lat = south_df[\"Lat\"]\n",
    "south_humid = south_df[\"Humidity\"]\n",
    "south_humid_scat = plt.scatter(south_lat, south_humid, marker=\"o\", facecolors=\"blue\")\n",
    "\n",
    "(slope, intercept, rvalue, pvalue, stderr) = linregress(south_lat, south_humid)\n",
    "regress_values = (south_lat) * slope + intercept\n",
    "line_eq = \"y = \" + str(round(slope,2)) + \"x + \" + str(round(intercept,2))\n",
    "\n",
    "plt.plot(south_lat,regress_values,\"r-\")\n",
    "plt.annotate(line_eq,(6,10),fontsize=10,color=\"red\")\n",
    "plt.xlabel = \"Latitude\"\n",
    "plt.ylabel = \"Humidity\"\n",
    "plt.show(south_humid_scat)\n",
    "\n",
    "print(f' The r-squared is: {rvalue}')"
   ]
  },
  {
   "cell_type": "markdown",
   "metadata": {},
   "source": [
    "####  Northern Hemisphere - Cloudiness (%) vs. Latitude Linear Regression"
   ]
  },
  {
   "cell_type": "code",
   "execution_count": 82,
   "metadata": {},
   "outputs": [
    {
     "data": {
      "image/png": "[encoded data removed]",
      "text/plain": [
       "<Figure size 432x288 with 1 Axes>"
      ]
     },
     "metadata": {
      "needs_background": "light"
     },
     "output_type": "display_data"
    },
    {
     "name": "stdout",
     "output_type": "stream",
     "text": [
      " The r-squared is: 0.07865539010293407\n"
     ]
    }
   ],
   "source": [
    "north_cloud = north_df[\"Cloudiness\"]\n",
    "north_cloud_scat = plt.scatter(north_lat, north_cloud, marker=\"D\", facecolors=\"green\")\n",
    "\n",
    "(slope, intercept, rvalue, pvalue, stderr) = linregress(north_lat, north_cloud)\n",
    "regress_values = (north_lat) * slope + intercept\n",
    "line_eq = \"y = \" + str(round(slope,2)) + \"x + \" + str(round(intercept,2))\n",
    "\n",
    "plt.plot(north_lat,regress_values,\"r-\")\n",
    "plt.annotate(line_eq,(6,10),fontsize=10,color=\"red\")\n",
    "plt.xlabel = \"Latitude\"\n",
    "plt.ylabel = \"Cloudiness\"\n",
    "plt.show(north_cloud_scat)\n",
    "\n",
    "print(f' The r-squared is: {rvalue}')"
   ]
  },
  {
   "cell_type": "markdown",
   "metadata": {},
   "source": [
    "####  Southern Hemisphere - Cloudiness (%) vs. Latitude Linear Regression"
   ]
  },
  {
   "cell_type": "code",
   "execution_count": 77,
   "metadata": {},
   "outputs": [
    {
     "data": {
      "image/png": "[encoded data removed]",
      "text/plain": [
       "<Figure size 432x288 with 1 Axes>"
      ]
     },
     "metadata": {
      "needs_background": "light"
     },
     "output_type": "display_data"
    },
    {
     "name": "stdout",
     "output_type": "stream",
     "text": [
      " The r-squared is: 0.03884147558714273\n"
     ]
    }
   ],
   "source": [
    "south_cloud = south_df[\"Cloudiness\"]\n",
    "south_cloud_scat = plt.scatter(south_lat, south_cloud, marker=\"D\", facecolors=\"blue\")\n",
    "\n",
    "(slope, intercept, rvalue, pvalue, stderr) = linregress(south_lat, south_cloud)\n",
    "regress_values = (south_lat) * slope + intercept\n",
    "line_eq = \"y = \" + str(round(slope,2)) + \"x + \" + str(round(intercept,2))\n",
    "\n",
    "plt.plot(south_lat,regress_values,\"r-\")\n",
    "plt.annotate(line_eq,(6,10),fontsize=10,color=\"red\")\n",
    "plt.xlabel = \"Latitude\"\n",
    "plt.ylabel = \"Cloudiness\"\n",
    "plt.show(south_cloud_scat)\n",
    "\n",
    "print(f' The r-squared is: {rvalue}')"
   ]
  },
  {
   "cell_type": "markdown",
   "metadata": {},
   "source": [
    "####  Northern Hemisphere - Wind Speed (mph) vs. Latitude Linear Regression"
   ]
  },
  {
   "cell_type": "code",
   "execution_count": 81,
   "metadata": {},
   "outputs": [
    {
     "data": {
      "image/png": "[encoded data removed]",
      "text/plain": [
       "<Figure size 432x288 with 1 Axes>"
      ]
     },
     "metadata": {
      "needs_background": "light"
     },
     "output_type": "display_data"
    },
    {
     "name": "stdout",
     "output_type": "stream",
     "text": [
      " The r-squared is: 0.12263708269986355\n"
     ]
    }
   ],
   "source": [
    "north_wind = north_df[\"Wind Speed\"]\n",
    "north_wind_scat = plt.scatter(north_lat, north_wind, marker=\"1\", facecolors=\"green\")\n",
    "\n",
    "(slope, intercept, rvalue, pvalue, stderr) = linregress(north_lat, north_wind)\n",
    "regress_values = (north_lat) * slope + intercept\n",
    "line_eq = \"y = \" + str(round(slope,2)) + \"x + \" + str(round(intercept,2))\n",
    "\n",
    "plt.plot(north_lat,regress_values,\"r-\")\n",
    "plt.annotate(line_eq,(6,10),fontsize=10,color=\"red\")\n",
    "plt.xlabel = \"Latitude\"\n",
    "plt.ylabel = \"Windiness\"\n",
    "plt.show(north_wind_scat)\n",
    "\n",
    "print(f' The r-squared is: {rvalue}')"
   ]
  },
  {
   "cell_type": "markdown",
   "metadata": {},
   "source": [
    "####  Southern Hemisphere - Wind Speed (mph) vs. Latitude Linear Regression"
   ]
  },
  {
   "cell_type": "code",
   "execution_count": 79,
   "metadata": {},
   "outputs": [
    {
     "data": {
      "image/png": "[encoded data removed]",
      "text/plain": [
       "<Figure size 432x288 with 1 Axes>"
      ]
     },
     "metadata": {
      "needs_background": "light"
     },
     "output_type": "display_data"
    },
    {
     "name": "stdout",
     "output_type": "stream",
     "text": [
      " The r-squared is: -0.20590503287664091\n"
     ]
    }
   ],
   "source": [
    "south_wind = south_df[\"Wind Speed\"]\n",
    "south_wind_scat = plt.scatter(south_lat, south_wind, marker=\"1\", facecolors=\"blue\")\n",
    "\n",
    "(slope, intercept, rvalue, pvalue, stderr) = linregress(south_lat, south_wind)\n",
    "regress_values = (south_lat) * slope + intercept\n",
    "line_eq = \"y = \" + str(round(slope,2)) + \"x + \" + str(round(intercept,2))\n",
    "\n",
    "plt.plot(south_lat,regress_values,\"r-\")\n",
    "plt.annotate(line_eq,(6,10),fontsize=10,color=\"red\")\n",
    "plt.xlabel = \"Latitude\"\n",
    "plt.ylabel = \"Windiness\"\n",
    "plt.show(south_wind_scat)\n",
    "\n",
    "print(f' The r-squared is: {rvalue}')"
   ]
  },
  {
   "cell_type": "code",
   "execution_count": null,
   "metadata": {},
   "outputs": [],
   "source": []
  }
 ],
 "metadata": {
  "anaconda-cloud": {},
  "kernel_info": {
   "name": "python3"
  },
  "kernelspec": {
   "display_name": "pythondata",
   "language": "python",
   "name": "pythondata"
  },
  "language_info": {
   "codemirror_mode": {
    "name": "ipython",
    "version": 3
   },
   "file_extension": ".py",
   "mimetype": "text/x-python",
   "name": "python",
   "nbconvert_exporter": "python",
   "pygments_lexer": "ipython3",
   "version": "3.8.1"
  },
  "latex_envs": {
   "LaTeX_envs_menu_present": true,
   "autoclose": false,
   "autocomplete": true,
   "bibliofile": "biblio.bib",
   "cite_by": "apalike",
   "current_citInitial": 1,
   "eqLabelWithNumbers": true,
   "eqNumInitial": 1,
   "hotkeys": {
    "equation": "Ctrl-E",
    "itemize": "Ctrl-I"
   },
   "labels_anchors": false,
   "latex_user_defs": false,
   "report_style_numbering": false,
   "user_envs_cfg": false
  },
  "nteract": {
   "version": "0.12.3"
  }
 },
 "nbformat": 4,
 "nbformat_minor": 4
}
